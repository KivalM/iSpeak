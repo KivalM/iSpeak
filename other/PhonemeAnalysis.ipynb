{
 "cells": [
  {
   "cell_type": "code",
   "execution_count": 5,
   "metadata": {},
   "outputs": [
    {
     "name": "stderr",
     "output_type": "stream",
     "text": [
      "/home/vscode/.cache/pypoetry/virtualenvs/server-eAfla32m-py3.9/lib/python3.9/site-packages/tqdm/auto.py:21: TqdmWarning: IProgress not found. Please update jupyter and ipywidgets. See https://ipywidgets.readthedocs.io/en/stable/user_install.html\n",
      "  from .autonotebook import tqdm as notebook_tqdm\n"
     ]
    }
   ],
   "source": [
    "from langchain_anthropic import ChatAnthropic\n",
    "import phonemizer\n",
    "from transformers import pipeline\n",
    "import Levenshtein\n",
    "from langchain_core.pydantic_v1 import BaseModel, Field\n",
    "\n"
   ]
  },
  {
   "cell_type": "code",
   "execution_count": 7,
   "metadata": {},
   "outputs": [
    {
     "name": "stdout",
     "output_type": "stream",
     "text": [
      "[('insert', 3, 3), ('replace', 3, 4), ('replace', 6, 7)]\n"
     ]
    }
   ],
   "source": [
    "ipa = \"ɡ ʊ d ɑ f t ɚ n u n\"\n",
    "target = \"ɡʊd aftənun\"\n",
    "\n",
    "# remove n spaces from the ipa to try to match the target\n",
    "ipa_no_spaces = ipa.replace(\" \", \"\")\n",
    "target_no_spaces = target.replace(\" \", \"\")\n",
    "ops = Levenshtein.editops(ipa_no_spaces, target)\n",
    "non_matching = Levenshtein.opcodes(ops, ipa, target)\n",
    "\n",
    "print(ops)"
   ]
  },
  {
   "cell_type": "code",
   "execution_count": 175,
   "metadata": {},
   "outputs": [
    {
     "data": {
      "text/plain": [
       "('haʊ ɑːɹ juː ', 'h aʊ ɑːɹ j uː')"
      ]
     },
     "execution_count": 175,
     "metadata": {},
     "output_type": "execute_result"
    }
   ],
   "source": [
    "word = \"How are you?\"\n",
    "ipa = phonemizer.phonemize(word, language=\"en-us\", backend=\"espeak\")\n",
    "human = \"h aʊ ɑːɹ j uː\"\n",
    "\n",
    "ipa, human"
   ]
  },
  {
   "cell_type": "code",
   "execution_count": 176,
   "metadata": {},
   "outputs": [
    {
     "data": {
      "text/plain": [
       "('h aʊ ɑɹ j u', 'haʊ ɑɹ ju')"
      ]
     },
     "execution_count": 176,
     "metadata": {},
     "output_type": "execute_result"
    }
   ],
   "source": [
    "ipa = ipa.replace(\"ː\", \"\").replace(\"ˈ\", \"\").replace(\"ˌ\", \"\").removeprefix(\" \").removesuffix(\" \")\n",
    "human = human.replace(\"ː\", \"\").replace(\"ˈ\", \"\").replace(\"ˌ\", \"\").removeprefix(\" \").removesuffix(\" \")\n",
    "\n",
    "human, ipa"
   ]
  },
  {
   "cell_type": "code",
   "execution_count": 177,
   "metadata": {},
   "outputs": [
    {
     "data": {
      "text/plain": [
       "0.9"
      ]
     },
     "execution_count": 177,
     "metadata": {},
     "output_type": "execute_result"
    }
   ],
   "source": [
    "ratio = Levenshtein.ratio(human, ipa)\n",
    "ratio"
   ]
  },
  {
   "cell_type": "code",
   "execution_count": 178,
   "metadata": {},
   "outputs": [
    {
     "data": {
      "text/plain": [
       "[('delete', 1, 1), ('delete', 9, 8)]"
      ]
     },
     "execution_count": 178,
     "metadata": {},
     "output_type": "execute_result"
    }
   ],
   "source": [
    "ops = Levenshtein.editops(human, ipa)\n",
    "ops"
   ]
  },
  {
   "cell_type": "code",
   "execution_count": 179,
   "metadata": {},
   "outputs": [
    {
     "data": {
      "text/plain": [
       "[MatchingBlock(a=0, b=0, size=1),\n",
       " MatchingBlock(a=2, b=1, size=7),\n",
       " MatchingBlock(a=10, b=8, size=1),\n",
       " MatchingBlock(a=11, b=9, size=0)]"
      ]
     },
     "execution_count": 179,
     "metadata": {},
     "output_type": "execute_result"
    }
   ],
   "source": [
    "matching = Levenshtein.matching_blocks(ops, human, ipa)\n",
    "matching"
   ]
  },
  {
   "cell_type": "code",
   "execution_count": 180,
   "metadata": {},
   "outputs": [
    {
     "data": {
      "text/plain": [
       "[('equal', 0, 1, 0, 1),\n",
       " ('delete', 1, 2, 1, 1),\n",
       " ('equal', 2, 9, 1, 8),\n",
       " ('delete', 9, 10, 8, 8),\n",
       " ('equal', 10, 11, 8, 9)]"
      ]
     },
     "execution_count": 180,
     "metadata": {},
     "output_type": "execute_result"
    }
   ],
   "source": [
    "non_matching = Levenshtein.opcodes(ops, human, ipa)\n",
    "non_matching\n",
    "    "
   ]
  },
  {
   "cell_type": "code",
   "execution_count": 181,
   "metadata": {},
   "outputs": [
    {
     "name": "stdout",
     "output_type": "stream",
     "text": [
      "equal h h\n",
      "delete   \n",
      "equal aʊ ɑɹ j aʊ ɑɹ j\n",
      "delete   \n",
      "equal u u\n"
     ]
    },
    {
     "data": {
      "text/plain": [
       "[('equal', 'h'),\n",
       " ('delete', ' '),\n",
       " ('equal', 'aʊ ɑɹ j'),\n",
       " ('delete', ' '),\n",
       " ('equal', 'u')]"
      ]
     },
     "execution_count": 181,
     "metadata": {},
     "output_type": "execute_result"
    }
   ],
   "source": [
    "# put the actual character in the string\n",
    "contents = []\n",
    "for tag, i1, i2, j1, j2 in non_matching:\n",
    "    print(tag, human[i1:i2], ipa[j1:j2])\n",
    "    if tag == 'equal':\n",
    "        contents.append(('equal',human[i1:i2]))\n",
    "    elif tag == 'replace':\n",
    "        contents.append(('replace',human[i1:i2], ipa[j1:j2]))\n",
    "    elif tag == 'delete':\n",
    "        contents.append(('delete',human[i1:i2]))\n",
    "    elif tag == 'insert':\n",
    "        contents.append(('insert',ipa[j1:j2]))\n",
    "contents"
   ]
  },
  {
   "cell_type": "code",
   "execution_count": 182,
   "metadata": {},
   "outputs": [],
   "source": [
    "llm = ChatAnthropic(\n",
    "    model=\"claude-3-5-sonnet-20240620\",\n",
    ")"
   ]
  },
  {
   "cell_type": "code",
   "execution_count": 183,
   "metadata": {},
   "outputs": [],
   "source": [
    "from typing import List, Dict, Any\n",
    "\n",
    "class Suggestions(BaseModel):\n",
    "    word: str = Field(\n",
    "        \"\",\n",
    "        description=\"The segment of the text\",\n",
    "    )\n",
    "    suggestions: List[str] = Field(\n",
    "        [],\n",
    "        description=\"List of suggestions for the word\",\n",
    "    )\n",
    "    importance: int = Field(\n",
    "        0,\n",
    "        description=\"The importance of the suggestion from 1 to 100\",\n",
    "    )\n",
    "\n",
    "\n",
    "class Feedback(BaseModel):\n",
    "    general_feedback: List[str] = Field(\n",
    "        \"\",\n",
    "        description=\"Overall feedback on the text\",\n",
    "    )\n",
    "    suggestions: List[Suggestions] = Field(\n",
    "        [],\n",
    "        description=\"Suggestions for each segment of the text\",\n",
    "    )\n"
   ]
  },
  {
   "cell_type": "code",
   "execution_count": 184,
   "metadata": {},
   "outputs": [
    {
     "data": {
      "text/plain": [
       "'The key differences in the string are highlighted below:  Same(h),  Delete( ),  Same(aʊ ɑɹ j),  Delete( ),  Same(u)'"
      ]
     },
     "execution_count": 184,
     "metadata": {},
     "output_type": "execute_result"
    }
   ],
   "source": [
    "contents_str = \"The key differences in the string are highlighted below: \"\n",
    "for tag, *args in contents:\n",
    "    if tag == 'equal':\n",
    "        contents_str += f\" Same({args[0]}), \"\n",
    "    elif tag == 'replace':\n",
    "        contents_str += f\" Replace({args[0]} with {args[1]}), \"\n",
    "    elif tag == 'delete':\n",
    "        contents_str += f\" Delete({args[0]}), \"\n",
    "    elif tag == 'insert':\n",
    "        contents_str += f\" Insert({args[0]}), \"\n",
    "contents_str = contents_str.removesuffix(\", \")\n",
    "contents_str    "
   ]
  },
  {
   "cell_type": "code",
   "execution_count": 186,
   "metadata": {},
   "outputs": [
    {
     "data": {
      "text/plain": [
       "Feedback(general_feedback=[\"Your pronunciation of 'How are you?' is very good! You're really close to perfect pronunciation. There are just a couple of small things we can work on to make it even better.\"], suggestions=[Suggestions(word='How are you?', suggestions=['Try to say the phrase as one smooth unit, without pauses between words.', \"Pay attention to the ending 'u' sound in 'you'. Make sure it's clear and not too short.\"], importance=80), Suggestions(word='How', suggestions=[\"Your pronunciation of 'How' is excellent! Keep up the good work.\"], importance=60), Suggestions(word='are', suggestions=[\"Your pronunciation of 'are' is very good. Make sure to maintain the 'r' sound clearly.\"], importance=70), Suggestions(word='you', suggestions=[\"Try to make the 'u' sound at the end of 'you' a bit longer and clearer.\"], importance=75)])"
      ]
     },
     "execution_count": 186,
     "metadata": {},
     "output_type": "execute_result"
    }
   ],
   "source": [
    "prompt = f\"\"\"\n",
    "Given the following ipa transcription that has been generated from the audio file: {human},\n",
    "The user is trying to say the word: {word} and in ipa transcription, it is: {ipa}.\n",
    "The provided IPA transcription is modified to include spaces between each character.\n",
    "The similarity between the ipa transcription and the phonemes is: {ratio},\n",
    "The user's native language is: English, and the user's age is: 12,,\n",
    "The target language is: English, and the user's efficiency level is: Beginner.\n",
    "\n",
    "See below the differences between the ipa transcription and the phonemes:\n",
    "{contents_str}\n",
    "\"\"\"\n",
    "structured_feedback = llm.with_structured_output(Feedback)\n",
    "structured_feedback.invoke(prompt)"
   ]
  }
 ],
 "metadata": {
  "kernelspec": {
   "display_name": "Python 3",
   "language": "python",
   "name": "python3"
  },
  "language_info": {
   "codemirror_mode": {
    "name": "ipython",
    "version": 3
   },
   "file_extension": ".py",
   "mimetype": "text/x-python",
   "name": "python",
   "nbconvert_exporter": "python",
   "pygments_lexer": "ipython3",
   "version": "3.9.19"
  }
 },
 "nbformat": 4,
 "nbformat_minor": 2
}
